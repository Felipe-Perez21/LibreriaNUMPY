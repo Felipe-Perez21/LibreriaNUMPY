{
  "nbformat": 4,
  "nbformat_minor": 0,
  "metadata": {
    "colab": {
      "name": "librería NUMPY.ipynb",
      "provenance": []
    },
    "kernelspec": {
      "name": "python3",
      "display_name": "Python 3"
    },
    "language_info": {
      "name": "python"
    }
  },
  "cells": [
    {
      "cell_type": "markdown",
      "metadata": {
        "id": "EY3fXZqyeSa3"
      },
      "source": [
        "# Uso de libreria NUMPY\n",
        "En este cuaderno voy a practicar el uso de la libreria NUMPY"
      ]
    },
    {
      "cell_type": "code",
      "metadata": {
        "id": "PCLyXJaDeN6Y"
      },
      "source": [
        "#Importar la libreria a nuestro entorno de trabajo\n",
        "import numpy as np"
      ],
      "execution_count": 3,
      "outputs": []
    },
    {
      "cell_type": "markdown",
      "metadata": {
        "id": "G0aaqq2D-IgC"
      },
      "source": [
        "### Colecciones de datos en NUMPY"
      ]
    },
    {
      "cell_type": "code",
      "metadata": {
        "id": "Gu6ja_gwgmDQ",
        "colab": {
          "base_uri": "https://localhost:8080/"
        },
        "outputId": "9e06dec0-81b7-4a52-bba7-73c95116ec20"
      },
      "source": [
        "d1 = np.array([97,98,99,100]) #Arreglo de una sola dimensión \n",
        "d1 "
      ],
      "execution_count": null,
      "outputs": [
        {
          "output_type": "execute_result",
          "data": {
            "text/plain": [
              "array([ 97,  98,  99, 100])"
            ]
          },
          "metadata": {},
          "execution_count": 15
        }
      ]
    },
    {
      "cell_type": "code",
      "metadata": {
        "colab": {
          "base_uri": "https://localhost:8080/"
        },
        "id": "nJELM-vM-2Dn",
        "outputId": "37a8b946-ba36-48f0-c368-1f566e4f81e4"
      },
      "source": [
        "d2 = np.array([(1.11,2.22,3.33), (4.44,5.55,6.66)], dtype = float) #Arreglo de dos dimensiones, similar a una tabla \n",
        "print(d2)"
      ],
      "execution_count": null,
      "outputs": [
        {
          "output_type": "stream",
          "name": "stdout",
          "text": [
            "[[1.11 2.22 3.33]\n",
            " [4.44 5.55 6.66]]\n"
          ]
        }
      ]
    },
    {
      "cell_type": "code",
      "metadata": {
        "colab": {
          "base_uri": "https://localhost:8080/"
        },
        "id": "iaZGDJHZ_csC",
        "outputId": "424b71be-1c6e-40e0-b61e-446701d2c2e1"
      },
      "source": [
        "d3 =  c = np.array([[(1.5,2,3), (4,5,6)],[(3,2,1), (4,5,6)]], dtype = float) #Arreglo de tres dimensiones\n",
        "d3"
      ],
      "execution_count": null,
      "outputs": [
        {
          "output_type": "execute_result",
          "data": {
            "text/plain": [
              "array([[[1.5, 2. , 3. ],\n",
              "        [4. , 5. , 6. ]],\n",
              "\n",
              "       [[3. , 2. , 1. ],\n",
              "        [4. , 5. , 6. ]]])"
            ]
          },
          "metadata": {},
          "execution_count": 13
        }
      ]
    },
    {
      "cell_type": "markdown",
      "metadata": {
        "id": "VRwrPm_YASSi"
      },
      "source": [
        "### Funciones con NUMPY"
      ]
    },
    {
      "cell_type": "code",
      "metadata": {
        "colab": {
          "base_uri": "https://localhost:8080/"
        },
        "id": "tAC6fRuAAyiB",
        "outputId": "c3c76de0-2d06-466d-ef27-bbcffded4c62"
      },
      "source": [
        "print(d1.shape) #Longitud del arreglo\n",
        "print(d2.shape)"
      ],
      "execution_count": null,
      "outputs": [
        {
          "output_type": "stream",
          "name": "stdout",
          "text": [
            "(4,)\n",
            "(2, 3)\n"
          ]
        }
      ]
    },
    {
      "cell_type": "code",
      "metadata": {
        "colab": {
          "base_uri": "https://localhost:8080/"
        },
        "id": "gJgjVyFREqu-",
        "outputId": "07532fa2-98eb-460c-abbb-4e0e662791bf"
      },
      "source": [
        "#Imprimir solo ciertos elementos de un arreglo, en este caso al ser de dos dimensiones se especifica la fila y la columna\n",
        "print(d2[0,1],d2[1,0]) #Se pueden imprimir multiples elementos en una sola intrucción "
      ],
      "execution_count": null,
      "outputs": [
        {
          "output_type": "stream",
          "name": "stdout",
          "text": [
            "2.22 4.44\n"
          ]
        }
      ]
    },
    {
      "cell_type": "code",
      "metadata": {
        "id": "r73BW4Y9FnRG"
      },
      "source": [
        "#Cambiar el valor de un elemento \n",
        "d2[1,2] = 6.6666"
      ],
      "execution_count": null,
      "outputs": []
    },
    {
      "cell_type": "code",
      "metadata": {
        "colab": {
          "base_uri": "https://localhost:8080/"
        },
        "id": "AS2AlC3iF-Pq",
        "outputId": "10b10f3c-bb51-4abf-8361-8e592cfc7372"
      },
      "source": [
        "d2 #Visualizar el nuevo arreglo"
      ],
      "execution_count": null,
      "outputs": [
        {
          "output_type": "execute_result",
          "data": {
            "text/plain": [
              "array([[1.11  , 2.22  , 3.33  ],\n",
              "       [4.44  , 5.55  , 6.6666]])"
            ]
          },
          "metadata": {},
          "execution_count": 30
        }
      ]
    },
    {
      "cell_type": "markdown",
      "metadata": {
        "id": "20615fw9Mexc"
      },
      "source": [
        "### Operaciones en arreglos"
      ]
    },
    {
      "cell_type": "code",
      "metadata": {
        "colab": {
          "base_uri": "https://localhost:8080/"
        },
        "id": "F8hwSu9xMpp4",
        "outputId": "e0dd94e6-0a8b-4142-f116-86f00c952fd7"
      },
      "source": [
        "a = np.array([12,15,34,22,55,43,56,33,12,77]) #Arreglo con valores introducidos de manera manual\n",
        "b = np.random.randint(1,100,(10)) #Arreglo generado con 10 valores aleatorios\n",
        "print(\"a = {}\".format(a))\n",
        "print(\"b = {}\".format(b))"
      ],
      "execution_count": 4,
      "outputs": [
        {
          "output_type": "stream",
          "name": "stdout",
          "text": [
            "a = [12 15 34 22 55 43 56 33 12 77]\n",
            "b = [93 31 51 50 19 57 91 78 74 75]\n"
          ]
        }
      ]
    },
    {
      "cell_type": "code",
      "metadata": {
        "colab": {
          "base_uri": "https://localhost:8080/"
        },
        "id": "8_bJ2LO4O7m9",
        "outputId": "27539666-250c-4a07-809f-50d4436d5c84"
      },
      "source": [
        "#Pueden realizarse las operaciones aritmeticas basicas, deben ser realizadas entre dos arreglos de la misma longitud\n",
        "print(\"Suma (+) = {}\".format(np.add(a,b)))\n",
        "print(\"Resta (-) = {}\".format(np.subtract(b,a)))#El orden en la resta y división son importantes para obtener el resultado deseado\n",
        "print(\"Multiplicación (*) = {}\".format(np.multiply(a,b)))\n",
        "print(\"División (/) = {}\".format(np.divide(b,a))) "
      ],
      "execution_count": 5,
      "outputs": [
        {
          "output_type": "stream",
          "name": "stdout",
          "text": [
            "Suma (+) = [105  46  85  72  74 100 147 111  86 152]\n",
            "Resta (-) = [ 81  16  17  28 -36  14  35  45  62  -2]\n",
            "Multiplicación (*) = [1116  465 1734 1100 1045 2451 5096 2574  888 5775]\n",
            "División (/) = [7.75       2.06666667 1.5        2.27272727 0.34545455 1.3255814\n",
            " 1.625      2.36363636 6.16666667 0.97402597]\n"
          ]
        }
      ]
    },
    {
      "cell_type": "code",
      "metadata": {
        "colab": {
          "base_uri": "https://localhost:8080/"
        },
        "id": "qm8MxOvUSzCH",
        "outputId": "35867cc9-1899-4970-a5c2-d6de66f461c7"
      },
      "source": [
        "#Tambien se puede realizar algunas operaciones de estadistica básicas en arreglos\n",
        "print(\"Valor MAX = {}\".format(b.max()))\n",
        "print(\"Valor MIN = {}\".format(b.min()))\n",
        "print(\"Promedio = {}\".format(b.mean()))\n",
        "print(\"Desviación estándar = {}\".format(b.std()))\n",
        "print(\"\")\n",
        "print(\"Suma total del arreglo = {}\".format(b.sum()))\n",
        "print(\"Suma acumulativa del arreglo = {}\".format(b.cumsum()))\n"
      ],
      "execution_count": 17,
      "outputs": [
        {
          "output_type": "stream",
          "name": "stdout",
          "text": [
            "Valor MAX = 93\n",
            "Valor MIN = 19\n",
            "Promedio = 61.9\n",
            "Desviación estándar = 23.389955108977873\n",
            "\n",
            "Suma total del arreglo = 619\n",
            "Suma acumulativa del arreglo = [ 19  50 100 151 208 282 357 435 526 619]\n"
          ]
        }
      ]
    }
  ]
}